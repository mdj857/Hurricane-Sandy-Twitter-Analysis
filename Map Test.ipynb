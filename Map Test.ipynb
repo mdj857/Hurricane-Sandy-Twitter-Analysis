{
 "cells": [
  {
   "cell_type": "code",
   "execution_count": 42,
   "metadata": {},
   "outputs": [
    {
     "name": "stdout",
     "output_type": "stream",
     "text": [
      "High five! You successfully sent some data to your account on plotly. View your plot in your browser at https://plot.ly/~javiertzepeda/0 or inside your plot.ly account where it is named 'd3-bubble-map-populations'\n"
     ]
    },
    {
     "data": {
      "text/html": [
       "<iframe id=\"igraph\" scrolling=\"no\" style=\"border:none;\" seamless=\"seamless\" src=\"https://plot.ly/~javiertzepeda/0.embed\" height=\"525px\" width=\"100%\"></iframe>"
      ],
      "text/plain": [
       "<plotly.tools.PlotlyDisplay object>"
      ]
     },
     "execution_count": 42,
     "metadata": {},
     "output_type": "execute_result"
    }
   ],
   "source": [
    "import numpy as np\n",
    "import pandas as pd\n",
    "import plotly.plotly as py\n",
    "import plotly\n",
    "plotly.tools.set_credentials_file(username='javiertzepeda', api_key='pKSEE9IN1UNSL9E62spa')\n",
    "\n",
    "tweets = pd.read_csv(\"short.csv\")\n",
    "colors = [\"rgb(0,116,217)\",\"rgb(255,65,54)\",\"rgb(133,20,75)\",\"rgb(255,133,27)\",\"lightgrey\"]\n",
    "\n",
    "scale = 1000;\n",
    "\n",
    "#for tweets in chunks:\n",
    "    \n",
    "tweets.dropna(subset=[\"lat_final\", \"lng_final\"], inplace=True)\n",
    "tweets.to_csv(\"short.csv\", header=False, index=False, mode=\"a\")\n",
    "\n",
    "tweetmap = []\n",
    "\n",
    "tweet = dict(\n",
    "    type = 'scattergeo',\n",
    "    locationmode = 'USA-states',\n",
    "    lon = tweets['lng_final'],\n",
    "    lat = tweets['lat_final'],\n",
    "    text = tweets['text'],\n",
    "    marker = dict(\n",
    "        size = tweets['user_followers_count']/scale,\n",
    "        color = colors[i % len(colors)],\n",
    "        line = dict(width=0.5, color='rgb(40,40,40)'),\n",
    "        sizemode = 'area'\n",
    "    ),\n",
    "    name = tweets['user_id'])\n",
    "tweetmap.append(tweet)\n",
    "    #print tweets['lng_final'].iloc[i],tweets['lat_final'].iloc[i],tweets['text'].iloc[i]\n",
    "layout = dict(\n",
    "    title = 'Sandia Hurricane Tweets',\n",
    "    showlegend = True,\n",
    "    geo = dict(\n",
    "        scope='usa',\n",
    "        projection=dict( type='albers usa' ),\n",
    "        showland = True,\n",
    "        landcolor = 'rgb(217, 217, 217)',\n",
    "        subunitwidth=1,\n",
    "        countrywidth=1,\n",
    "        subunitcolor=\"rgb(255, 255, 255)\",\n",
    "        countrycolor=\"rgb(255, 255, 255)\"\n",
    "    ),\n",
    ")\n",
    "\n",
    "fig = dict( data=tweetmap, layout=layout )\n",
    "py.iplot( fig, validate=False, filename='d3-bubble-map-populations' )"
   ]
  }
 ],
 "metadata": {
  "kernelspec": {
   "display_name": "Python 2",
   "language": "python",
   "name": "python2"
  },
  "language_info": {
   "codemirror_mode": {
    "name": "ipython",
    "version": 2
   },
   "file_extension": ".py",
   "mimetype": "text/x-python",
   "name": "python",
   "nbconvert_exporter": "python",
   "pygments_lexer": "ipython2",
   "version": "2.7.13"
  }
 },
 "nbformat": 4,
 "nbformat_minor": 2
}
